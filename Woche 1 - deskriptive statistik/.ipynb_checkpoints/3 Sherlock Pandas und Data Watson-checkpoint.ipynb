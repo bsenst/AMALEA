{
 "cells": [
  {
   "cell_type": "code",
   "execution_count": null,
   "metadata": {},
   "outputs": [],
   "source": [
    "# [Nur Colab] Diese Zellen müssen nur auf *Google Colab* ausgeführt werden und installieren Packete und Daten\n",
    "!wget -q https://raw.githubusercontent.com/KI-Campus/AMALEA/master/requirements.txt && pip install --quiet -r requirements.txt\n",
    "!wget --quiet \"https://github.com/KI-Campus/AMALEA/releases/download/data/data.zip\" && unzip -q data.zip"
   ]
  },
  {
   "cell_type": "markdown",
   "metadata": {},
   "source": [
    "# Sherlock Pandas und Data Watson"
   ]
  },
  {
   "cell_type": "markdown",
   "metadata": {},
   "source": [
    "## Daten mit deskriptiven Statistiken verstehen \n",
    "\n",
    "Da Sie nun wissen, wie Sie Ihre Daten laden, möchten wir Ihnen nun einige Werkzeuge an die Hand geben, mit denen Sie sich einen schnellen Überblick über Ihre Daten verschaffen können. Damit können Sie entscheiden, wie Sie das meiste aus ihnen herausholen können.\n",
    " \n",
    "Sie können entweder einen Blick auf die Daten werfen, indem Sie sie öffnen (zum Beispiel in Excel), oder indem das Paket pandas verwenden. Der Pandas Dataframe hat dazu die Methode `.head()`, mit der Sie einen Blick auf die Rohdaten werfen können. \n",
    "\n",
    "<div class=\"alert alert-block alert-success\">\n",
    "<b>Aufgabe 1.3.1:</b> Schreiben Sie einen Code, der die ersten 20 Zeilen des Datensatzes ausgibt. Dazu kann das data Objekt direkt verwendet werden.\n",
    "\n",
    "</div>"
   ]
  },
  {
   "cell_type": "code",
   "execution_count": 1,
   "metadata": {},
   "outputs": [
    {
     "name": "stdout",
     "output_type": "stream",
     "text": [
      "<class 'pandas.core.frame.DataFrame'>\n"
     ]
    }
   ],
   "source": [
    "from pandas import read_csv\n",
    "import pandas as pd\n",
    "\n",
    "filename = 'data/pima-indians-diabetes.csv'\n",
    "\n",
    "names = ['preg', 'plas', 'pres', 'skin', 'test', 'mass', 'pedi', 'age', 'class']\n",
    "data = read_csv(filename, names=names)\n",
    "print(type(data)) # Get the columns and rows. Format:(rows, cols)\n",
    "### STUDENT CODE HERE\n",
    "\n",
    "### STUDENT CODE until HERE"
   ]
  },
  {
   "cell_type": "markdown",
   "metadata": {},
   "source": [
    "<div class=\"alert alert-block alert-success\">\n",
    "<b>Frage 1.3.2:</b> Wofür stehen die verschiedenen abgekürzten Features (preg, plas usw.) in dem Datensatz?\n",
    "</div>\n",
    "\n",
    "<div class=\"alert alert-block alert-info\">\n",
    "<b>Hinweis:</b> Genauere Informationen zum verwendeten Datensatz finden Sie hier: https://www.kaggle.com/uciml/pima-indians-diabetes-database\n",
    "</div>\n",
    "    \n",
    "<div class=\"alert alert-block alert-success\">\n",
    "<b>Ihre Antwort:</b></div>\n"
   ]
  },
  {
   "cell_type": "markdown",
   "metadata": {},
   "source": [
    "Im ersten Kapitel haben Sie bereits gelernt, wie Sie verschiedene Datentypen konvertieren können. Bevor Sie aber mit dem Konvertieren beginnen können, müssen Sie herausfinden, welche Datentypen zurzeit vorliegen. Das Pandas `dtypes` Attribut gibt den Datentyp jeder Spalte aus."
   ]
  },
  {
   "cell_type": "code",
   "execution_count": 2,
   "metadata": {},
   "outputs": [],
   "source": [
    "data.dtypes"
   ]
  },
  {
   "cell_type": "markdown",
   "metadata": {},
   "source": [
    "### Deskriptive Statistik\n",
    "\n",
    "Da wir nun eine grobe Übersicht über unseren Datensatz haben (Form, erste Zeilen und Datentypen des Datensatzes), ist es an der Zeit, mehr über die Eigenschaften heraus zu finden und die Frage zu klären, was sich hinter den einzelnen Variablen verbirgt. Dadurch wird es später auch möglich sein, abzuschätzen, ob der Algorithmus richtig funktioniert.\n",
    "\n",
    "Die `describe` Funktion gibt 8 statistische Eigenschaften für jedes Attribut aus.\n",
    "\n",
    "_Anzahl, Mittelwert, Standardabweichung, Minimum, 25. Perzentil, 50. Perzentil (Median), 75. Perzentil und Maximum_\n",
    "\n",
    "<div class=\"alert alert-block alert-success\">\n",
    "<b>Aufgabe 1.3.3:</b> Wenden Sie die describe Funktion auf den Datensatz an. \n",
    "<ul>\n",
    "    <li> Hinweis: Benutzen Sie die Pandas <code>set_option</code> Funktion für eine sinnvolle Genauigkeit des Outputs. Ein Attribut kann durch ('Attribut', Wert) gesetzt werden.\n",
    "\n",
    "</ul>\n",
    "</div>"
   ]
  },
  {
   "cell_type": "code",
   "execution_count": 3,
   "metadata": {},
   "outputs": [],
   "source": [
    "from pandas import set_option\n",
    "\n",
    "### STUDENT CODE HERE\n",
    "\n",
    "### STUDENT CODE until HERE\n",
    "\n",
    "print(description)"
   ]
  },
  {
   "cell_type": "markdown",
   "metadata": {},
   "source": [
    "### Klassenverteilung\n",
    "\n",
    "In der Regel sind die Daten von Anfang an nicht ausgewogen, sodass eine Klasse häufiger als eine andere auftritt. Dies erfordert in der Regel einen gesonderten Umgang mit den Daten in der Datenaufbereitung. Um einen schnellen Einblick auf den Status der Daten zu erhalten, können sie nach einem Attribut sortiert werden."
   ]
  },
  {
   "cell_type": "markdown",
   "metadata": {},
   "source": [
    "<div class=\"alert alert-block alert-success\">\n",
    "<b>Aufgabe 1.3.4:</b> Schreiben Sie einen Code, der das Auftreten jeder Klasse in der 'class' Spalte zählt und speichern Sie diese Anzahl in der Variable <code>class_count</code>.\n",
    "</div>"
   ]
  },
  {
   "cell_type": "code",
   "execution_count": 4,
   "metadata": {},
   "outputs": [],
   "source": [
    "### STUDENT CODE HERE\n",
    "\n",
    "### STUDENT CODE until HERE\n",
    "\n",
    "print(class_counts)"
   ]
  },
  {
   "cell_type": "markdown",
   "metadata": {},
   "source": [
    "### Korrelation zwischen Attributen \n",
    "\n",
    "Häufig gibt es Attribute, die von anderen Attributen abhängig sind, auch bekannt als Korrelation. Um die Korrelation zu berechnen / zu messen, kann man sich des _Pearson-Korrelation Koeffizienten_ bedienen. Dieser Koeffizient liegt bei sehr starken Korrelationen der Nähe von -1 und 1 und ist 0, wenn keine Korrelation vor liegt. Die Pandas Funktion `corr()` berechnet die sogenannte Korrelationsmatrix, die die Korrelation jeder Variablen bezüglich aller anderen Variablen angibt. Diese Matrix ist symmetrisch.\n",
    "\n",
    "<div class=\"alert alert-block alert-success\">\n",
    "<b>Aufgabe/Frage 1.3.5:</b> Verwenden Sie die <code>.corr()</code> Methode, um die Korrelationsmatrix zu berechnen und speichern Sie diese in der Variable <code>correlations</code>. Welche Aussagen können Sie mithilfe dieser Matrix treffen?\n",
    "</div>\n",
    "\n",
    "\n",
    "<div class=\"alert alert-block alert-success\">\n",
    "<b>Ihre Antwort:</b></div>\n"
   ]
  },
  {
   "cell_type": "code",
   "execution_count": 5,
   "metadata": {},
   "outputs": [],
   "source": [
    "### STUDENT CODE HERE\n",
    "\n",
    "### STUDENT CODE until HERE\n",
    "\n",
    "print(correlations)"
   ]
  },
  {
   "cell_type": "markdown",
   "metadata": {},
   "source": [
    "## Daten graphisch verstehen\n",
    "\n",
    "Im letzten Kapitel haben wir bereits gelernt, wie wir einen guten Überblick über unsere Daten erlangen können. Mit mehreren Dimensionen wird es allerdings schwieriger, alle Zahlen zu durchblicken. In diesem Fall brauchen wir Graphen. Dazu werden wir in diesem Kapitel praktisch die gleichen Methoden erneut behandeln. Dieses Mal werden wir sie allerdings visualisieren."
   ]
  },
  {
   "cell_type": "markdown",
   "metadata": {},
   "source": [
    "### Histogramme\n",
    "\n",
    "Um ein grobes Verständnis über die Verteilung eines Attributs zu erlangen, können wir uns Histogramme ansehen. Diese erlauben es uns, schnell Aussagen darüber treffen zu können, welche Attribute normalverteilt sind und ob Schiefe vorliegt.\n",
    "\n",
    "Histogramme teilen die Daten nach ihren Attributen auf. Jedes Histogramm stellt die Werte eines Attributs dar, indem es zählt, wie häufig der jeweilige Wert im Datensatz auftritt. \n",
    "\n",
    "Wir können Histogramme mithilfe der neuen Library `Matplotlib` erzeugen."
   ]
  },
  {
   "cell_type": "markdown",
   "metadata": {},
   "source": [
    "<div class=\"alert alert-block alert-success\">\n",
    "<b>Aufgabe 1.3.6:</b> Erzeugen Sie ein Histogramm pro Merkmal im Diabetes-Datensatz (insgesamt 9 Histogramme). \n",
    "\n",
    "* Tipp1: Sie können entweder matplotlib auf alle Features anwenden oder einfach die Methode pandas <code>.hist()</code> verwenden, die mit matplotlib ein Histogramm pro Spalte erzeugt.\n",
    "\n",
    "* Tipp2: Schauen Sie sich die Matplotlib-Funktionen <code>tight_layout()</code> und <code>show()</code> an. \n",
    "\n",
    "</div>"
   ]
  },
  {
   "cell_type": "code",
   "execution_count": 6,
   "metadata": {},
   "outputs": [],
   "source": [
    "import matplotlib.pyplot as plt\n",
    "\n",
    "### STUDENT CODE HERE\n",
    "\n",
    "### STUDENT CODE until HERE"
   ]
  },
  {
   "cell_type": "markdown",
   "metadata": {},
   "source": [
    "<div class=\"alert alert-block alert-success\">\n",
    "<b>Frage 1.3.7:</b> Welche Aussagen können Sie mithilfe der Histogramme treffen? Trifft dies auf die Erkenntnisse des vorherigen Kapitels zu?\n",
    "</div>\n",
    "\n",
    "<div class=\"alert alert-block alert-success\">\n",
    "<b>Ihre Antwort:</b></div>\n"
   ]
  },
  {
   "cell_type": "markdown",
   "metadata": {},
   "source": [
    "### Dichtediagramme\n",
    "\n",
    "Allgemein funktionieren Dichtediagramme ähnlich wie Histogramme. Im Gegensatz zu Histogrammen ist der Verlauf in Dichtediagrammen allerdings glatter, da sie nicht ausschließlich auf der Häufigkeit des Auftretens der Werte beruhen."
   ]
  },
  {
   "cell_type": "markdown",
   "metadata": {},
   "source": [
    "<div class=\"alert alert-block alert-success\">\n",
    "<b>Aufgabe 1.3.8:</b> Finden Sie heraus, wie ein Dichtediagramm (density plot) erzeugt werden kann. Geben Sie ein Dichtediagramm pro Feature aus. Sie können dazu Methoden von Pandas verwenden.\n",
    "</div>"
   ]
  },
  {
   "cell_type": "code",
   "execution_count": 7,
   "metadata": {},
   "outputs": [],
   "source": [
    "### STUDENT CODE HERE\n",
    "\n",
    "### STUDENT CODE until HERE"
   ]
  },
  {
   "cell_type": "markdown",
   "metadata": {},
   "source": [
    "### Box- und Whisker Plots\n",
    "\n",
    "Ein weiterer Weg, Daten zu visualisieren sind sogenannte _boxplots_. Dieses mögen beim ersten Betrachten vielleicht unverständlich erscheinen. Ein Boxplot zeigt den Median mit einem Strich in einer Box. Das obere und das untere Ende der Box geben das 25. bzw. das 75. Perzentil an. Eine weitere Linie zeigt den gesamten Umfang der Daten an (https://en.wikipedia.org/wiki/Box_plot).\n",
    "\n",
    "Die sogenannten Whiskers geben die Streuung der Daten an. Die Punkte symbolisieren zudem Ausreißer, also Werte die 1.5 Mal größer als der Interquartilsabstand (IQR) sind. Der IQR ist der Abstand zwischen dem oberen Whisker (Q3) und dem unteren Whisker (Q1)."
   ]
  },
  {
   "cell_type": "markdown",
   "metadata": {},
   "source": [
    "<div class=\"alert alert-block alert-success\">\n",
    "<b>Aufgabe 1.3.9:</b> Visualisieren Sie alle Features mithilfe von Box Plots. Sie können dazu Methoden von Pandas verwenden.\n",
    "</div>"
   ]
  },
  {
   "cell_type": "code",
   "execution_count": 8,
   "metadata": {},
   "outputs": [],
   "source": [
    "### STUDENT CODE HERE\n",
    "\n",
    "### STUDENT CODE until HERE"
   ]
  },
  {
   "cell_type": "markdown",
   "metadata": {},
   "source": [
    "### Mehrdimensionale Plots\n",
    "\n",
    "#### Korrelationsmatrix Plot\n",
    "\n",
    "Wie bereits zuvor erwähnt, beschreibt die Korrelation den Zusammenhang zwischen zwei Variablen. Falls Sie diese bereits berechnet haben, können Sie sie nun visualisieren, um einen schnellen Überblick über die Korrelation zwischen den Variablen zu erhalten. Es ist wichtig, stark korrelierte Attribute zu finden, das diese die Performanz mancher Algorithmen schwächen können.\n",
    "\n",
    "\n",
    "<div class=\"alert alert-block alert-success\">\n",
    "<b>Aufgabe 1.3.10:</b> Erstellen Sie eine Heatmap. Diese gibt Ihnen einen guten Überblick über die Korrelationen Ihrer Daten.\n",
    "</div>"
   ]
  },
  {
   "cell_type": "code",
   "execution_count": 9,
   "metadata": {},
   "outputs": [],
   "source": [
    "### STUDENT CODE HERE\n",
    "\n",
    "### STUDENT CODE until HERE"
   ]
  },
  {
   "cell_type": "markdown",
   "metadata": {},
   "source": [
    "Na also, schon haben Sie einen schnellen Überblick über Ihre Daten! \n",
    "\n",
    "Es scheint als wären alle Variablen positiv korreliert. Wenn Sie herauszufinden möchten, welcher Korrelationskoeffizient zu welchem Attribut gehört, können Sie Ihren Code anpassen und Achsenbeschriftungen hinzufügen. Manchmal kann es auch hilfreich sein, die einzelnen Zellen der Heatmap direkt mit Werten zu beschriften."
   ]
  },
  {
   "cell_type": "markdown",
   "metadata": {},
   "source": [
    "#### Streudiagramm-Matrix (Scatter Plot Matrix)\n",
    "\n",
    "Die Streudiagramm-Matrix ist eine der letzten Methoden, die wir euch vorstellen werden. Ein Streudiagramm zeigt den Zusammenhang zwischen zwei Variablen als Punkte im zweidimensionalen Raum mit jeweils einer Achse pro Attribut. Generiert man ein Streudiagramm pro Attribut nennt man dies eine _Streudiagramm-Matrix_. Ein Vorteil dieser Matrix ist, dass strukturelle Zusammenhänge zwischen Attributen leicht erkannt werden können. Diese könnten eine Korrelation bedeuten. "
   ]
  },
  {
   "cell_type": "markdown",
   "metadata": {},
   "source": [
    "<div class=\"alert alert-block alert-success\">\n",
    "<b>Aufgabe 1.3.11:</b> Plotten Sie eine solche Matrix\n",
    "</div>\n",
    "<div class=\"alert alert-block alert-success\">\n",
    "<b>Frage 1.3.12:</b> Was kann man an diesem Plot erkennen?\n",
    "</div>\n",
    "\n",
    "<div class=\"alert alert-block alert-success\">\n",
    "<b>Ihre Antwort:</b></div>\n"
   ]
  },
  {
   "cell_type": "code",
   "execution_count": 10,
   "metadata": {},
   "outputs": [],
   "source": [
    "from pandas.plotting import scatter_matrix\n",
    "\n",
    "### STUDENT CODE HERE\n",
    "\n",
    "### STUDENT CODE until HERE\n",
    "\n",
    "plt.show()"
   ]
  },
  {
   "cell_type": "markdown",
   "metadata": {},
   "source": [
    "## Schiefe eindimensionaler Verteilungen\n",
    "\n",
    "Viele Machine Learning Algorithmen können besser mit Normal- oder Gaußverteilungen (https://en.wikipedia.org/wiki/Normal_distribution) umgehen. Wenn Ihre Daten allerdings einer schiefen Normalfunktion folgen, kann es sinnvoll sein, dies in der Datenaufbereitung zu beheben. Lasst uns die Schiefe unseres Datensatzes betrachten. Dies kann in Pandas mit der `skew()` Funktion erreicht werden.\n",
    "<div class=\"alert alert-block alert-success\">\n",
    "<b>Aufgabe/Frage 1.3.13:</b> Berechnen Sie die Schiefe der Diabetesdaten. Speichern Sie diese in der Variablen <code>skew</code> und beschreiben Sie Ihre Beobachtungen mit Hilfe der Schiefe Werte. Siehe auch: https://en.wikipedia.org/wiki/Skewnes\n",
    "</div>\n",
    "\n",
    "\n",
    "<div class=\"alert alert-block alert-success\">\n",
    "<b>Ihre Antwort:</b></div>\n"
   ]
  },
  {
   "cell_type": "code",
   "execution_count": 11,
   "metadata": {},
   "outputs": [],
   "source": [
    "### STUDENT CODE HERE\n",
    "\n",
    "### STUDENT CODE until HERE\n",
    "\n",
    "print(skew)"
   ]
  },
  {
   "cell_type": "code",
   "execution_count": null,
   "metadata": {},
   "outputs": [],
   "source": []
  }
 ],
 "metadata": {
  "kernelspec": {
   "display_name": "Python 3 (ipykernel)",
   "language": "python",
   "name": "python3"
  },
  "language_info": {
   "codemirror_mode": {
    "name": "ipython",
    "version": 3
   },
   "file_extension": ".py",
   "mimetype": "text/x-python",
   "name": "python",
   "nbconvert_exporter": "python",
   "pygments_lexer": "ipython3",
   "version": "3.9.1"
  }
 },
 "nbformat": 4,
 "nbformat_minor": 4
}
